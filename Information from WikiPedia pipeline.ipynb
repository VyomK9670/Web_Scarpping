{
 "cells": [
  {
   "cell_type": "markdown",
   "id": "a1a3dc1b",
   "metadata": {},
   "source": [
    "## Information from WikiPedia pipeline"
   ]
  },
  {
   "cell_type": "code",
   "execution_count": 1,
   "id": "abf03b18",
   "metadata": {},
   "outputs": [],
   "source": [
    "### Importing the importent library"
   ]
  },
  {
   "cell_type": "code",
   "execution_count": 2,
   "id": "d42ee4b3",
   "metadata": {},
   "outputs": [],
   "source": [
    "import requests\n",
    "from bs4 import BeautifulSoup\n",
    "\n",
    "import warnings \n",
    "warnings.filterwarnings('ignore')"
   ]
  },
  {
   "cell_type": "markdown",
   "id": "6c8cae26",
   "metadata": {},
   "source": [
    "### Problem statement \n",
    "1.  we want to create pipe linne to create the all existing informtion from the webside for a perticuler person"
   ]
  },
  {
   "cell_type": "code",
   "execution_count": null,
   "id": "83861c74",
   "metadata": {
    "scrolled": true
   },
   "outputs": [],
   "source": []
  },
  {
   "cell_type": "code",
   "execution_count": 8,
   "id": "4256a9a4",
   "metadata": {},
   "outputs": [
    {
     "name": "stdout",
     "output_type": "stream",
     "text": [
      "Pls enter the name of person :Rajguru\n",
      "https://www.google.com/search?q=Rajguru+wikipedia\n",
      "https://en.wikipedia.org/wiki/Shivaram_Rajguru\n",
      "Shivaram Hari Rajguru (24 August 1908  23 March 1931)[1][2] was an Indian revolutionary from Maharashtra (then Bombay State), known mainly for his involvement in the assassination of a British police officer named John Saunders. He was an active member of the Hindustan Socialist Republican Association (HSRA) and on 23 March 1931, he was hanged by the British government along with his associates Bhagat Singh and Sukhdev Thapar.\n",
      "Rajguru was born on 24 August 1908 at Khed to Parvati Devi and Harinarayan Rajguru in a Marathi Deshastha Brahmin family. Khed was located at the bank of river Bheema near Pune. His father died when he was only six years old and the responsibility of the family fell on his elder brother Dinkar. He received primary education at Khed and later studied in New English High School in Pune. He joined Seva Dal at a young age. He attended a training camp conducted by Dr. N. S. Hardikar at Ghatprabha.[1]\n",
      "He was a member of the Hindustan Socialist Republican Association, who wanted India to be free from British Raj by any means possible.[2]\n",
      "Rajguru became a colleague of Bhagat Singh & Sukhdev Thapar, and took part in the assassination of a British police officer, J. P. \"John\" Saunders, at Lahore on 17 December 1928. Their actions were to avenge the death of Lala Lajpat Rai who had died a fortnight later after being badly beaten by the police while on a march protesting the Simon Commission[3]\n",
      "His birthplace of Khed was renamed as Rajgurunagar in his honour.[2] Rajgurunagar is a census town in Khed tehsil of Pune district in state of Maharashtra.[4]\n",
      "Rajguru Wada is the ancestral house where Rajguru was born. Spread over 2,788 sq m of land, it is located on the banks of Bhima river on Pune-Nashik Road. It is being maintained as a memorial to Shivaram Rajguru. A local organization, the Hutatma Rajguru Smarak Samiti (HRSS), hoists the national flag here on Republic Day since 2004.[5]\n",
      "Shaheed Rajguru College of Applied Sciences for Women is located in Vasundhara Enclave, Delhi, and is a constituent college of Delhi University.[6]\n"
     ]
    }
   ],
   "source": [
    "title = str(input('Pls enter the name of person :')).replace(' ','+')\n",
    "tag = 'https://www.google.com/search?q='+ title + '+wikipedia'\n",
    "print(tag)\n",
    "\n",
    "resp = requests.get(tag)\n",
    "soup = BeautifulSoup(resp.text,'html.parser' )\n",
    "# soup.text\n",
    "# FINALLINK =[]\n",
    "for sp in soup.find_all('div'):\n",
    "#     print(sp)\n",
    "    try :\n",
    "        link = sp.find('a').get('href')\n",
    "        if ('en.wikipedia.org') in link :\n",
    "#             print(link)\n",
    "#             print(link[7:])\n",
    "#             print(link[7:].split('&'))\n",
    "            print(link[7:].split('&')[0])\n",
    "            FINALLINK=  link[7:].split('&')[0]     \n",
    "            break\n",
    "    except :\n",
    "        pass\n",
    "\n",
    "\n",
    "x = requests.get(FINALLINK)\n",
    "soup = BeautifulSoup(x.text, 'html.parser')\n",
    "\n",
    "    \n",
    "heading = soup.find('h1').text\n",
    "heading\n",
    "# print( soup.text.replace('\\n','') ) \n",
    "\n",
    "corpus = ''\n",
    "for p in soup.find_all('p') :\n",
    "    corpus +=p.text\n",
    "#     corpus + = '\\n'\n",
    "corpus = corpus.strip()   # use  to remove the /n from begining and end of paragraph\n",
    "\n",
    "\n",
    "\n",
    "corpus = corpus.encode('utf-8').decode('ascii', 'ignore')\n",
    "# To save the file in text format\n",
    "\n",
    "# soup.prettify().encode('cp1252', errors='ignore'))\n",
    "# fd = open(heading  +'.txt','w')\n",
    "# fd.write(corpus)\n",
    "# fd.close()\n",
    "\n",
    "print(corpus)\n",
    "# Rajguru, Sukhdev, Azad, and Gopal"
   ]
  },
  {
   "cell_type": "code",
   "execution_count": null,
   "id": "14e1d1e1",
   "metadata": {},
   "outputs": [],
   "source": []
  }
 ],
 "metadata": {
  "kernelspec": {
   "display_name": "Python 3 (ipykernel)",
   "language": "python",
   "name": "python3"
  },
  "language_info": {
   "codemirror_mode": {
    "name": "ipython",
    "version": 3
   },
   "file_extension": ".py",
   "mimetype": "text/x-python",
   "name": "python",
   "nbconvert_exporter": "python",
   "pygments_lexer": "ipython3",
   "version": "3.10.2"
  }
 },
 "nbformat": 4,
 "nbformat_minor": 5
}
