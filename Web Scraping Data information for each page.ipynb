{
 "cells": [
  {
   "cell_type": "code",
   "execution_count": null,
   "id": "35363e43",
   "metadata": {},
   "outputs": [],
   "source": []
  },
  {
   "cell_type": "code",
   "execution_count": 1,
   "id": "234586f6",
   "metadata": {},
   "outputs": [],
   "source": [
    "import requests "
   ]
  },
  {
   "cell_type": "code",
   "execution_count": 2,
   "id": "b293847b",
   "metadata": {},
   "outputs": [],
   "source": [
    "link = 'https://quotes.toscrape.com/'"
   ]
  },
  {
   "cell_type": "code",
   "execution_count": 3,
   "id": "bdecf3a4",
   "metadata": {},
   "outputs": [],
   "source": [
    "res = requests.get(link)   #code 200 means responce is is requested"
   ]
  },
  {
   "cell_type": "code",
   "execution_count": 4,
   "id": "7cf4ca13",
   "metadata": {},
   "outputs": [],
   "source": [
    "html = res.text "
   ]
  },
  {
   "cell_type": "code",
   "execution_count": 5,
   "id": "9d525ba1",
   "metadata": {},
   "outputs": [],
   "source": [
    "# fd = open('main.html','w')\n",
    "# # fd.write(html)\n",
    "# # fd.close()\n",
    "# with open('P4Output.txt', 'w') as f:\n",
    "#     fd.write(fd)"
   ]
  },
  {
   "cell_type": "code",
   "execution_count": null,
   "id": "b4da1a49",
   "metadata": {},
   "outputs": [],
   "source": []
  },
  {
   "cell_type": "code",
   "execution_count": 6,
   "id": "36082731",
   "metadata": {},
   "outputs": [],
   "source": [
    "## Scrappiing the artical or page "
   ]
  },
  {
   "cell_type": "code",
   "execution_count": 7,
   "id": "a2448f9a",
   "metadata": {},
   "outputs": [],
   "source": [
    "import requests\n",
    "from bs4 import BeautifulSoup  # Bs4 is library use to scape the web page"
   ]
  },
  {
   "cell_type": "code",
   "execution_count": 8,
   "id": "a582fe53",
   "metadata": {},
   "outputs": [],
   "source": [
    "link = 'https://quotes.toscrape.com/'"
   ]
  },
  {
   "cell_type": "code",
   "execution_count": 9,
   "id": "32bfd311",
   "metadata": {},
   "outputs": [],
   "source": [
    "res = requests.get(link)  "
   ]
  },
  {
   "cell_type": "code",
   "execution_count": 10,
   "id": "bbf966e6",
   "metadata": {},
   "outputs": [],
   "source": [
    "soup = BeautifulSoup(res.text,'html.parser')"
   ]
  },
  {
   "cell_type": "code",
   "execution_count": 11,
   "id": "3642028b",
   "metadata": {},
   "outputs": [
    {
     "data": {
      "text/plain": [
       "<!DOCTYPE html>\n",
       "\n",
       "<html lang=\"en\">\n",
       "<head>\n",
       "<meta charset=\"utf-8\"/>\n",
       "<title>Quotes to Scrape</title>\n",
       "<link href=\"/static/bootstrap.min.css\" rel=\"stylesheet\"/>\n",
       "<link href=\"/static/main.css\" rel=\"stylesheet\"/>\n",
       "</head>\n",
       "<body>\n",
       "<div class=\"container\">\n",
       "<div class=\"row header-box\">\n",
       "<div class=\"col-md-8\">\n",
       "<h1>\n",
       "<a href=\"/\" style=\"text-decoration: none\">Quotes to Scrape</a>\n",
       "</h1>\n",
       "</div>\n",
       "<div class=\"col-md-4\">\n",
       "<p>\n",
       "<a href=\"/login\">Login</a>\n",
       "</p>\n",
       "</div>\n",
       "</div>\n",
       "<div class=\"row\">\n",
       "<div class=\"col-md-8\">\n",
       "<div class=\"quote\" itemscope=\"\" itemtype=\"http://schema.org/CreativeWork\">\n",
       "<span class=\"text\" itemprop=\"text\">“The world as we have created it is a process of our thinking. It cannot be changed without changing our thinking.”</span>\n",
       "<span>by <small class=\"author\" itemprop=\"author\">Albert Einstein</small>\n",
       "<a href=\"/author/Albert-Einstein\">(about)</a>\n",
       "</span>\n",
       "<div class=\"tags\">\n",
       "            Tags:\n",
       "            <meta class=\"keywords\" content=\"change,deep-thoughts,thinking,world\" itemprop=\"keywords\"/>\n",
       "<a class=\"tag\" href=\"/tag/change/page/1/\">change</a>\n",
       "<a class=\"tag\" href=\"/tag/deep-thoughts/page/1/\">deep-thoughts</a>\n",
       "<a class=\"tag\" href=\"/tag/thinking/page/1/\">thinking</a>\n",
       "<a class=\"tag\" href=\"/tag/world/page/1/\">world</a>\n",
       "</div>\n",
       "</div>\n",
       "<div class=\"quote\" itemscope=\"\" itemtype=\"http://schema.org/CreativeWork\">\n",
       "<span class=\"text\" itemprop=\"text\">“It is our choices, Harry, that show what we truly are, far more than our abilities.”</span>\n",
       "<span>by <small class=\"author\" itemprop=\"author\">J.K. Rowling</small>\n",
       "<a href=\"/author/J-K-Rowling\">(about)</a>\n",
       "</span>\n",
       "<div class=\"tags\">\n",
       "            Tags:\n",
       "            <meta class=\"keywords\" content=\"abilities,choices\" itemprop=\"keywords\"/>\n",
       "<a class=\"tag\" href=\"/tag/abilities/page/1/\">abilities</a>\n",
       "<a class=\"tag\" href=\"/tag/choices/page/1/\">choices</a>\n",
       "</div>\n",
       "</div>\n",
       "<div class=\"quote\" itemscope=\"\" itemtype=\"http://schema.org/CreativeWork\">\n",
       "<span class=\"text\" itemprop=\"text\">“There are only two ways to live your life. One is as though nothing is a miracle. The other is as though everything is a miracle.”</span>\n",
       "<span>by <small class=\"author\" itemprop=\"author\">Albert Einstein</small>\n",
       "<a href=\"/author/Albert-Einstein\">(about)</a>\n",
       "</span>\n",
       "<div class=\"tags\">\n",
       "            Tags:\n",
       "            <meta class=\"keywords\" content=\"inspirational,life,live,miracle,miracles\" itemprop=\"keywords\"/>\n",
       "<a class=\"tag\" href=\"/tag/inspirational/page/1/\">inspirational</a>\n",
       "<a class=\"tag\" href=\"/tag/life/page/1/\">life</a>\n",
       "<a class=\"tag\" href=\"/tag/live/page/1/\">live</a>\n",
       "<a class=\"tag\" href=\"/tag/miracle/page/1/\">miracle</a>\n",
       "<a class=\"tag\" href=\"/tag/miracles/page/1/\">miracles</a>\n",
       "</div>\n",
       "</div>\n",
       "<div class=\"quote\" itemscope=\"\" itemtype=\"http://schema.org/CreativeWork\">\n",
       "<span class=\"text\" itemprop=\"text\">“The person, be it gentleman or lady, who has not pleasure in a good novel, must be intolerably stupid.”</span>\n",
       "<span>by <small class=\"author\" itemprop=\"author\">Jane Austen</small>\n",
       "<a href=\"/author/Jane-Austen\">(about)</a>\n",
       "</span>\n",
       "<div class=\"tags\">\n",
       "            Tags:\n",
       "            <meta class=\"keywords\" content=\"aliteracy,books,classic,humor\" itemprop=\"keywords\"/>\n",
       "<a class=\"tag\" href=\"/tag/aliteracy/page/1/\">aliteracy</a>\n",
       "<a class=\"tag\" href=\"/tag/books/page/1/\">books</a>\n",
       "<a class=\"tag\" href=\"/tag/classic/page/1/\">classic</a>\n",
       "<a class=\"tag\" href=\"/tag/humor/page/1/\">humor</a>\n",
       "</div>\n",
       "</div>\n",
       "<div class=\"quote\" itemscope=\"\" itemtype=\"http://schema.org/CreativeWork\">\n",
       "<span class=\"text\" itemprop=\"text\">“Imperfection is beauty, madness is genius and it's better to be absolutely ridiculous than absolutely boring.”</span>\n",
       "<span>by <small class=\"author\" itemprop=\"author\">Marilyn Monroe</small>\n",
       "<a href=\"/author/Marilyn-Monroe\">(about)</a>\n",
       "</span>\n",
       "<div class=\"tags\">\n",
       "            Tags:\n",
       "            <meta class=\"keywords\" content=\"be-yourself,inspirational\" itemprop=\"keywords\"/>\n",
       "<a class=\"tag\" href=\"/tag/be-yourself/page/1/\">be-yourself</a>\n",
       "<a class=\"tag\" href=\"/tag/inspirational/page/1/\">inspirational</a>\n",
       "</div>\n",
       "</div>\n",
       "<div class=\"quote\" itemscope=\"\" itemtype=\"http://schema.org/CreativeWork\">\n",
       "<span class=\"text\" itemprop=\"text\">“Try not to become a man of success. Rather become a man of value.”</span>\n",
       "<span>by <small class=\"author\" itemprop=\"author\">Albert Einstein</small>\n",
       "<a href=\"/author/Albert-Einstein\">(about)</a>\n",
       "</span>\n",
       "<div class=\"tags\">\n",
       "            Tags:\n",
       "            <meta class=\"keywords\" content=\"adulthood,success,value\" itemprop=\"keywords\"/>\n",
       "<a class=\"tag\" href=\"/tag/adulthood/page/1/\">adulthood</a>\n",
       "<a class=\"tag\" href=\"/tag/success/page/1/\">success</a>\n",
       "<a class=\"tag\" href=\"/tag/value/page/1/\">value</a>\n",
       "</div>\n",
       "</div>\n",
       "<div class=\"quote\" itemscope=\"\" itemtype=\"http://schema.org/CreativeWork\">\n",
       "<span class=\"text\" itemprop=\"text\">“It is better to be hated for what you are than to be loved for what you are not.”</span>\n",
       "<span>by <small class=\"author\" itemprop=\"author\">André Gide</small>\n",
       "<a href=\"/author/Andre-Gide\">(about)</a>\n",
       "</span>\n",
       "<div class=\"tags\">\n",
       "            Tags:\n",
       "            <meta class=\"keywords\" content=\"life,love\" itemprop=\"keywords\"/>\n",
       "<a class=\"tag\" href=\"/tag/life/page/1/\">life</a>\n",
       "<a class=\"tag\" href=\"/tag/love/page/1/\">love</a>\n",
       "</div>\n",
       "</div>\n",
       "<div class=\"quote\" itemscope=\"\" itemtype=\"http://schema.org/CreativeWork\">\n",
       "<span class=\"text\" itemprop=\"text\">“I have not failed. I've just found 10,000 ways that won't work.”</span>\n",
       "<span>by <small class=\"author\" itemprop=\"author\">Thomas A. Edison</small>\n",
       "<a href=\"/author/Thomas-A-Edison\">(about)</a>\n",
       "</span>\n",
       "<div class=\"tags\">\n",
       "            Tags:\n",
       "            <meta class=\"keywords\" content=\"edison,failure,inspirational,paraphrased\" itemprop=\"keywords\"/>\n",
       "<a class=\"tag\" href=\"/tag/edison/page/1/\">edison</a>\n",
       "<a class=\"tag\" href=\"/tag/failure/page/1/\">failure</a>\n",
       "<a class=\"tag\" href=\"/tag/inspirational/page/1/\">inspirational</a>\n",
       "<a class=\"tag\" href=\"/tag/paraphrased/page/1/\">paraphrased</a>\n",
       "</div>\n",
       "</div>\n",
       "<div class=\"quote\" itemscope=\"\" itemtype=\"http://schema.org/CreativeWork\">\n",
       "<span class=\"text\" itemprop=\"text\">“A woman is like a tea bag; you never know how strong it is until it's in hot water.”</span>\n",
       "<span>by <small class=\"author\" itemprop=\"author\">Eleanor Roosevelt</small>\n",
       "<a href=\"/author/Eleanor-Roosevelt\">(about)</a>\n",
       "</span>\n",
       "<div class=\"tags\">\n",
       "            Tags:\n",
       "            <meta class=\"keywords\" content=\"misattributed-eleanor-roosevelt\" itemprop=\"keywords\"/>\n",
       "<a class=\"tag\" href=\"/tag/misattributed-eleanor-roosevelt/page/1/\">misattributed-eleanor-roosevelt</a>\n",
       "</div>\n",
       "</div>\n",
       "<div class=\"quote\" itemscope=\"\" itemtype=\"http://schema.org/CreativeWork\">\n",
       "<span class=\"text\" itemprop=\"text\">“A day without sunshine is like, you know, night.”</span>\n",
       "<span>by <small class=\"author\" itemprop=\"author\">Steve Martin</small>\n",
       "<a href=\"/author/Steve-Martin\">(about)</a>\n",
       "</span>\n",
       "<div class=\"tags\">\n",
       "            Tags:\n",
       "            <meta class=\"keywords\" content=\"humor,obvious,simile\" itemprop=\"keywords\"/>\n",
       "<a class=\"tag\" href=\"/tag/humor/page/1/\">humor</a>\n",
       "<a class=\"tag\" href=\"/tag/obvious/page/1/\">obvious</a>\n",
       "<a class=\"tag\" href=\"/tag/simile/page/1/\">simile</a>\n",
       "</div>\n",
       "</div>\n",
       "<nav>\n",
       "<ul class=\"pager\">\n",
       "<li class=\"next\">\n",
       "<a href=\"/page/2/\">Next <span aria-hidden=\"true\">→</span></a>\n",
       "</li>\n",
       "</ul>\n",
       "</nav>\n",
       "</div>\n",
       "<div class=\"col-md-4 tags-box\">\n",
       "<h2>Top Ten tags</h2>\n",
       "<span class=\"tag-item\">\n",
       "<a class=\"tag\" href=\"/tag/love/\" style=\"font-size: 28px\">love</a>\n",
       "</span>\n",
       "<span class=\"tag-item\">\n",
       "<a class=\"tag\" href=\"/tag/inspirational/\" style=\"font-size: 26px\">inspirational</a>\n",
       "</span>\n",
       "<span class=\"tag-item\">\n",
       "<a class=\"tag\" href=\"/tag/life/\" style=\"font-size: 26px\">life</a>\n",
       "</span>\n",
       "<span class=\"tag-item\">\n",
       "<a class=\"tag\" href=\"/tag/humor/\" style=\"font-size: 24px\">humor</a>\n",
       "</span>\n",
       "<span class=\"tag-item\">\n",
       "<a class=\"tag\" href=\"/tag/books/\" style=\"font-size: 22px\">books</a>\n",
       "</span>\n",
       "<span class=\"tag-item\">\n",
       "<a class=\"tag\" href=\"/tag/reading/\" style=\"font-size: 14px\">reading</a>\n",
       "</span>\n",
       "<span class=\"tag-item\">\n",
       "<a class=\"tag\" href=\"/tag/friendship/\" style=\"font-size: 10px\">friendship</a>\n",
       "</span>\n",
       "<span class=\"tag-item\">\n",
       "<a class=\"tag\" href=\"/tag/friends/\" style=\"font-size: 8px\">friends</a>\n",
       "</span>\n",
       "<span class=\"tag-item\">\n",
       "<a class=\"tag\" href=\"/tag/truth/\" style=\"font-size: 8px\">truth</a>\n",
       "</span>\n",
       "<span class=\"tag-item\">\n",
       "<a class=\"tag\" href=\"/tag/simile/\" style=\"font-size: 6px\">simile</a>\n",
       "</span>\n",
       "</div>\n",
       "</div>\n",
       "</div>\n",
       "<footer class=\"footer\">\n",
       "<div class=\"container\">\n",
       "<p class=\"text-muted\">\n",
       "                Quotes by: <a href=\"https://www.goodreads.com/quotes\">GoodReads.com</a>\n",
       "</p>\n",
       "<p class=\"copyright\">\n",
       "                Made with <span class=\"sh-red\">❤</span> by <a href=\"https://scrapinghub.com\">Scrapinghub</a>\n",
       "</p>\n",
       "</div>\n",
       "</footer>\n",
       "</body>\n",
       "</html>"
      ]
     },
     "execution_count": 11,
     "metadata": {},
     "output_type": "execute_result"
    }
   ],
   "source": [
    "soup"
   ]
  },
  {
   "cell_type": "code",
   "execution_count": 12,
   "id": "d5cd79bd",
   "metadata": {},
   "outputs": [
    {
     "data": {
      "text/plain": [
       "\"\\n\\n\\n\\nQuotes to Scrape\\n\\n\\n\\n\\n\\n\\n\\n\\nQuotes to Scrape\\n\\n\\n\\n\\nLogin\\n\\n\\n\\n\\n\\n\\n“The world as we have created it is a process of our thinking. It cannot be changed without changing our thinking.”\\nby Albert Einstein\\n(about)\\n\\n\\n            Tags:\\n            \\nchange\\ndeep-thoughts\\nthinking\\nworld\\n\\n\\n\\n“It is our choices, Harry, that show what we truly are, far more than our abilities.”\\nby J.K. Rowling\\n(about)\\n\\n\\n            Tags:\\n            \\nabilities\\nchoices\\n\\n\\n\\n“There are only two ways to live your life. One is as though nothing is a miracle. The other is as though everything is a miracle.”\\nby Albert Einstein\\n(about)\\n\\n\\n            Tags:\\n            \\ninspirational\\nlife\\nlive\\nmiracle\\nmiracles\\n\\n\\n\\n“The person, be it gentleman or lady, who has not pleasure in a good novel, must be intolerably stupid.”\\nby Jane Austen\\n(about)\\n\\n\\n            Tags:\\n            \\naliteracy\\nbooks\\nclassic\\nhumor\\n\\n\\n\\n“Imperfection is beauty, madness is genius and it's better to be absolutely ridiculous than absolutely boring.”\\nby Marilyn Monroe\\n(about)\\n\\n\\n            Tags:\\n            \\nbe-yourself\\ninspirational\\n\\n\\n\\n“Try not to become a man of success. Rather become a man of value.”\\nby Albert Einstein\\n(about)\\n\\n\\n            Tags:\\n            \\nadulthood\\nsuccess\\nvalue\\n\\n\\n\\n“It is better to be hated for what you are than to be loved for what you are not.”\\nby André Gide\\n(about)\\n\\n\\n            Tags:\\n            \\nlife\\nlove\\n\\n\\n\\n“I have not failed. I've just found 10,000 ways that won't work.”\\nby Thomas A. Edison\\n(about)\\n\\n\\n            Tags:\\n            \\nedison\\nfailure\\ninspirational\\nparaphrased\\n\\n\\n\\n“A woman is like a tea bag; you never know how strong it is until it's in hot water.”\\nby Eleanor Roosevelt\\n(about)\\n\\n\\n            Tags:\\n            \\nmisattributed-eleanor-roosevelt\\n\\n\\n\\n“A day without sunshine is like, you know, night.”\\nby Steve Martin\\n(about)\\n\\n\\n            Tags:\\n            \\nhumor\\nobvious\\nsimile\\n\\n\\n\\n\\n\\nNext →\\n\\n\\n\\n\\n\\nTop Ten tags\\n\\nlove\\n\\n\\ninspirational\\n\\n\\nlife\\n\\n\\nhumor\\n\\n\\nbooks\\n\\n\\nreading\\n\\n\\nfriendship\\n\\n\\nfriends\\n\\n\\ntruth\\n\\n\\nsimile\\n\\n\\n\\n\\n\\n\\n\\n                Quotes by: GoodReads.com\\n\\n\\n                Made with ❤ by Scrapinghub\\n\\n\\n\\n\\n\""
      ]
     },
     "execution_count": 12,
     "metadata": {},
     "output_type": "execute_result"
    }
   ],
   "source": [
    "soup.text"
   ]
  },
  {
   "attachments": {
    "image.png": {
     "image/png": "[encoded data removed]"
    }
   },
   "cell_type": "markdown",
   "id": "fbe14520",
   "metadata": {},
   "source": [
    "### what we are looking for ?\n",
    "![image.png](attachment:image.png)"
   ]
  },
  {
   "cell_type": "code",
   "execution_count": 13,
   "id": "7e2944a3",
   "metadata": {},
   "outputs": [
    {
     "data": {
      "text/plain": [
       "<span class=\"text\" itemprop=\"text\">“The world as we have created it is a process of our thinking. It cannot be changed without changing our thinking.”</span>"
      ]
     },
     "execution_count": 13,
     "metadata": {},
     "output_type": "execute_result"
    }
   ],
   "source": [
    "soup.find('span' ,class_ = 'text')     # written for mate "
   ]
  },
  {
   "cell_type": "code",
   "execution_count": 14,
   "id": "812352ac",
   "metadata": {},
   "outputs": [
    {
     "data": {
      "text/plain": [
       "'“The world as we have created it is a process of our thinking. It cannot be changed without changing our thinking.”'"
      ]
     },
     "execution_count": 14,
     "metadata": {},
     "output_type": "execute_result"
    }
   ],
   "source": [
    "# if you want to extract the qoute from the link so you can write\n",
    "txt = soup.find('span' ,class_ = 'text').text\n",
    "txt"
   ]
  },
  {
   "cell_type": "code",
   "execution_count": 15,
   "id": "db63d349",
   "metadata": {},
   "outputs": [
    {
     "data": {
      "text/plain": [
       "'The world as we have created it is a process of our thinking. It cannot be changed without changing our thinking.'"
      ]
     },
     "execution_count": 15,
     "metadata": {},
     "output_type": "execute_result"
    }
   ],
   "source": [
    "txt[1:-1]"
   ]
  },
  {
   "attachments": {
    "image.png": {
     "image/png": "[encoded data removed]"
    }
   },
   "cell_type": "markdown",
   "id": "0117e258",
   "metadata": {},
   "source": [
    "### [1] if we want to extarct the all qoutes present in the page\n",
    "![image.png](attachment:image.png)"
   ]
  },
  {
   "cell_type": "code",
   "execution_count": 16,
   "id": "d64077b1",
   "metadata": {},
   "outputs": [
    {
     "data": {
      "text/plain": [
       "[<span class=\"text\" itemprop=\"text\">“The world as we have created it is a process of our thinking. It cannot be changed without changing our thinking.”</span>,\n",
       " <span class=\"text\" itemprop=\"text\">“It is our choices, Harry, that show what we truly are, far more than our abilities.”</span>,\n",
       " <span class=\"text\" itemprop=\"text\">“There are only two ways to live your life. One is as though nothing is a miracle. The other is as though everything is a miracle.”</span>,\n",
       " <span class=\"text\" itemprop=\"text\">“The person, be it gentleman or lady, who has not pleasure in a good novel, must be intolerably stupid.”</span>,\n",
       " <span class=\"text\" itemprop=\"text\">“Imperfection is beauty, madness is genius and it's better to be absolutely ridiculous than absolutely boring.”</span>,\n",
       " <span class=\"text\" itemprop=\"text\">“Try not to become a man of success. Rather become a man of value.”</span>,\n",
       " <span class=\"text\" itemprop=\"text\">“It is better to be hated for what you are than to be loved for what you are not.”</span>,\n",
       " <span class=\"text\" itemprop=\"text\">“I have not failed. I've just found 10,000 ways that won't work.”</span>,\n",
       " <span class=\"text\" itemprop=\"text\">“A woman is like a tea bag; you never know how strong it is until it's in hot water.”</span>,\n",
       " <span class=\"text\" itemprop=\"text\">“A day without sunshine is like, you know, night.”</span>]"
      ]
     },
     "execution_count": 16,
     "metadata": {},
     "output_type": "execute_result"
    }
   ],
   "source": [
    "txt_all = soup.find_all('span' ,class_ = 'text')\n",
    "txt_all  # Out put as in List type"
   ]
  },
  {
   "cell_type": "code",
   "execution_count": 17,
   "id": "cc0feec8",
   "metadata": {},
   "outputs": [
    {
     "data": {
      "text/plain": [
       "[<span class=\"text\" itemprop=\"text\">“It is our choices, Harry, that show what we truly are, far more than our abilities.”</span>,\n",
       " <span class=\"text\" itemprop=\"text\">“There are only two ways to live your life. One is as though nothing is a miracle. The other is as though everything is a miracle.”</span>]"
      ]
     },
     "execution_count": 17,
     "metadata": {},
     "output_type": "execute_result"
    }
   ],
   "source": [
    "txt_all[1:3]                 # Slicing of dictionary is possible"
   ]
  },
  {
   "cell_type": "code",
   "execution_count": 18,
   "id": "0e817029",
   "metadata": {},
   "outputs": [],
   "source": [
    "quates = []\n",
    "for quate in txt_all :\n",
    "#     print(quate.text)\n",
    "#     print()\n",
    "#     print(quate.text[1:-1])\n",
    "#     print()\n",
    "    quates.append(quate.text[1:-1])"
   ]
  },
  {
   "cell_type": "code",
   "execution_count": 19,
   "id": "61a915f1",
   "metadata": {},
   "outputs": [
    {
     "data": {
      "text/plain": [
       "['The world as we have created it is a process of our thinking. It cannot be changed without changing our thinking.',\n",
       " 'It is our choices, Harry, that show what we truly are, far more than our abilities.',\n",
       " 'There are only two ways to live your life. One is as though nothing is a miracle. The other is as though everything is a miracle.',\n",
       " 'The person, be it gentleman or lady, who has not pleasure in a good novel, must be intolerably stupid.',\n",
       " \"Imperfection is beauty, madness is genius and it's better to be absolutely ridiculous than absolutely boring.\",\n",
       " 'Try not to become a man of success. Rather become a man of value.',\n",
       " 'It is better to be hated for what you are than to be loved for what you are not.',\n",
       " \"I have not failed. I've just found 10,000 ways that won't work.\",\n",
       " \"A woman is like a tea bag; you never know how strong it is until it's in hot water.\",\n",
       " 'A day without sunshine is like, you know, night.']"
      ]
     },
     "execution_count": 19,
     "metadata": {},
     "output_type": "execute_result"
    }
   ],
   "source": [
    "quates"
   ]
  },
  {
   "cell_type": "markdown",
   "id": "9c39f327",
   "metadata": {},
   "source": [
    "### [2] If We want to know about who has wrriten the code ?  aouther name | Id | writter"
   ]
  },
  {
   "cell_type": "code",
   "execution_count": 20,
   "id": "15647177",
   "metadata": {},
   "outputs": [
    {
     "data": {
      "text/plain": [
       "[<div class=\"quote\" itemscope=\"\" itemtype=\"http://schema.org/CreativeWork\">\n",
       " <span class=\"text\" itemprop=\"text\">“The world as we have created it is a process of our thinking. It cannot be changed without changing our thinking.”</span>\n",
       " <span>by <small class=\"author\" itemprop=\"author\">Albert Einstein</small>\n",
       " <a href=\"/author/Albert-Einstein\">(about)</a>\n",
       " </span>\n",
       " <div class=\"tags\">\n",
       "             Tags:\n",
       "             <meta class=\"keywords\" content=\"change,deep-thoughts,thinking,world\" itemprop=\"keywords\"/>\n",
       " <a class=\"tag\" href=\"/tag/change/page/1/\">change</a>\n",
       " <a class=\"tag\" href=\"/tag/deep-thoughts/page/1/\">deep-thoughts</a>\n",
       " <a class=\"tag\" href=\"/tag/thinking/page/1/\">thinking</a>\n",
       " <a class=\"tag\" href=\"/tag/world/page/1/\">world</a>\n",
       " </div>\n",
       " </div>,\n",
       " <div class=\"quote\" itemscope=\"\" itemtype=\"http://schema.org/CreativeWork\">\n",
       " <span class=\"text\" itemprop=\"text\">“It is our choices, Harry, that show what we truly are, far more than our abilities.”</span>\n",
       " <span>by <small class=\"author\" itemprop=\"author\">J.K. Rowling</small>\n",
       " <a href=\"/author/J-K-Rowling\">(about)</a>\n",
       " </span>\n",
       " <div class=\"tags\">\n",
       "             Tags:\n",
       "             <meta class=\"keywords\" content=\"abilities,choices\" itemprop=\"keywords\"/>\n",
       " <a class=\"tag\" href=\"/tag/abilities/page/1/\">abilities</a>\n",
       " <a class=\"tag\" href=\"/tag/choices/page/1/\">choices</a>\n",
       " </div>\n",
       " </div>,\n",
       " <div class=\"quote\" itemscope=\"\" itemtype=\"http://schema.org/CreativeWork\">\n",
       " <span class=\"text\" itemprop=\"text\">“There are only two ways to live your life. One is as though nothing is a miracle. The other is as though everything is a miracle.”</span>\n",
       " <span>by <small class=\"author\" itemprop=\"author\">Albert Einstein</small>\n",
       " <a href=\"/author/Albert-Einstein\">(about)</a>\n",
       " </span>\n",
       " <div class=\"tags\">\n",
       "             Tags:\n",
       "             <meta class=\"keywords\" content=\"inspirational,life,live,miracle,miracles\" itemprop=\"keywords\"/>\n",
       " <a class=\"tag\" href=\"/tag/inspirational/page/1/\">inspirational</a>\n",
       " <a class=\"tag\" href=\"/tag/life/page/1/\">life</a>\n",
       " <a class=\"tag\" href=\"/tag/live/page/1/\">live</a>\n",
       " <a class=\"tag\" href=\"/tag/miracle/page/1/\">miracle</a>\n",
       " <a class=\"tag\" href=\"/tag/miracles/page/1/\">miracles</a>\n",
       " </div>\n",
       " </div>,\n",
       " <div class=\"quote\" itemscope=\"\" itemtype=\"http://schema.org/CreativeWork\">\n",
       " <span class=\"text\" itemprop=\"text\">“The person, be it gentleman or lady, who has not pleasure in a good novel, must be intolerably stupid.”</span>\n",
       " <span>by <small class=\"author\" itemprop=\"author\">Jane Austen</small>\n",
       " <a href=\"/author/Jane-Austen\">(about)</a>\n",
       " </span>\n",
       " <div class=\"tags\">\n",
       "             Tags:\n",
       "             <meta class=\"keywords\" content=\"aliteracy,books,classic,humor\" itemprop=\"keywords\"/>\n",
       " <a class=\"tag\" href=\"/tag/aliteracy/page/1/\">aliteracy</a>\n",
       " <a class=\"tag\" href=\"/tag/books/page/1/\">books</a>\n",
       " <a class=\"tag\" href=\"/tag/classic/page/1/\">classic</a>\n",
       " <a class=\"tag\" href=\"/tag/humor/page/1/\">humor</a>\n",
       " </div>\n",
       " </div>,\n",
       " <div class=\"quote\" itemscope=\"\" itemtype=\"http://schema.org/CreativeWork\">\n",
       " <span class=\"text\" itemprop=\"text\">“Imperfection is beauty, madness is genius and it's better to be absolutely ridiculous than absolutely boring.”</span>\n",
       " <span>by <small class=\"author\" itemprop=\"author\">Marilyn Monroe</small>\n",
       " <a href=\"/author/Marilyn-Monroe\">(about)</a>\n",
       " </span>\n",
       " <div class=\"tags\">\n",
       "             Tags:\n",
       "             <meta class=\"keywords\" content=\"be-yourself,inspirational\" itemprop=\"keywords\"/>\n",
       " <a class=\"tag\" href=\"/tag/be-yourself/page/1/\">be-yourself</a>\n",
       " <a class=\"tag\" href=\"/tag/inspirational/page/1/\">inspirational</a>\n",
       " </div>\n",
       " </div>,\n",
       " <div class=\"quote\" itemscope=\"\" itemtype=\"http://schema.org/CreativeWork\">\n",
       " <span class=\"text\" itemprop=\"text\">“Try not to become a man of success. Rather become a man of value.”</span>\n",
       " <span>by <small class=\"author\" itemprop=\"author\">Albert Einstein</small>\n",
       " <a href=\"/author/Albert-Einstein\">(about)</a>\n",
       " </span>\n",
       " <div class=\"tags\">\n",
       "             Tags:\n",
       "             <meta class=\"keywords\" content=\"adulthood,success,value\" itemprop=\"keywords\"/>\n",
       " <a class=\"tag\" href=\"/tag/adulthood/page/1/\">adulthood</a>\n",
       " <a class=\"tag\" href=\"/tag/success/page/1/\">success</a>\n",
       " <a class=\"tag\" href=\"/tag/value/page/1/\">value</a>\n",
       " </div>\n",
       " </div>,\n",
       " <div class=\"quote\" itemscope=\"\" itemtype=\"http://schema.org/CreativeWork\">\n",
       " <span class=\"text\" itemprop=\"text\">“It is better to be hated for what you are than to be loved for what you are not.”</span>\n",
       " <span>by <small class=\"author\" itemprop=\"author\">André Gide</small>\n",
       " <a href=\"/author/Andre-Gide\">(about)</a>\n",
       " </span>\n",
       " <div class=\"tags\">\n",
       "             Tags:\n",
       "             <meta class=\"keywords\" content=\"life,love\" itemprop=\"keywords\"/>\n",
       " <a class=\"tag\" href=\"/tag/life/page/1/\">life</a>\n",
       " <a class=\"tag\" href=\"/tag/love/page/1/\">love</a>\n",
       " </div>\n",
       " </div>,\n",
       " <div class=\"quote\" itemscope=\"\" itemtype=\"http://schema.org/CreativeWork\">\n",
       " <span class=\"text\" itemprop=\"text\">“I have not failed. I've just found 10,000 ways that won't work.”</span>\n",
       " <span>by <small class=\"author\" itemprop=\"author\">Thomas A. Edison</small>\n",
       " <a href=\"/author/Thomas-A-Edison\">(about)</a>\n",
       " </span>\n",
       " <div class=\"tags\">\n",
       "             Tags:\n",
       "             <meta class=\"keywords\" content=\"edison,failure,inspirational,paraphrased\" itemprop=\"keywords\"/>\n",
       " <a class=\"tag\" href=\"/tag/edison/page/1/\">edison</a>\n",
       " <a class=\"tag\" href=\"/tag/failure/page/1/\">failure</a>\n",
       " <a class=\"tag\" href=\"/tag/inspirational/page/1/\">inspirational</a>\n",
       " <a class=\"tag\" href=\"/tag/paraphrased/page/1/\">paraphrased</a>\n",
       " </div>\n",
       " </div>,\n",
       " <div class=\"quote\" itemscope=\"\" itemtype=\"http://schema.org/CreativeWork\">\n",
       " <span class=\"text\" itemprop=\"text\">“A woman is like a tea bag; you never know how strong it is until it's in hot water.”</span>\n",
       " <span>by <small class=\"author\" itemprop=\"author\">Eleanor Roosevelt</small>\n",
       " <a href=\"/author/Eleanor-Roosevelt\">(about)</a>\n",
       " </span>\n",
       " <div class=\"tags\">\n",
       "             Tags:\n",
       "             <meta class=\"keywords\" content=\"misattributed-eleanor-roosevelt\" itemprop=\"keywords\"/>\n",
       " <a class=\"tag\" href=\"/tag/misattributed-eleanor-roosevelt/page/1/\">misattributed-eleanor-roosevelt</a>\n",
       " </div>\n",
       " </div>,\n",
       " <div class=\"quote\" itemscope=\"\" itemtype=\"http://schema.org/CreativeWork\">\n",
       " <span class=\"text\" itemprop=\"text\">“A day without sunshine is like, you know, night.”</span>\n",
       " <span>by <small class=\"author\" itemprop=\"author\">Steve Martin</small>\n",
       " <a href=\"/author/Steve-Martin\">(about)</a>\n",
       " </span>\n",
       " <div class=\"tags\">\n",
       "             Tags:\n",
       "             <meta class=\"keywords\" content=\"humor,obvious,simile\" itemprop=\"keywords\"/>\n",
       " <a class=\"tag\" href=\"/tag/humor/page/1/\">humor</a>\n",
       " <a class=\"tag\" href=\"/tag/obvious/page/1/\">obvious</a>\n",
       " <a class=\"tag\" href=\"/tag/simile/page/1/\">simile</a>\n",
       " </div>\n",
       " </div>]"
      ]
     },
     "execution_count": 20,
     "metadata": {},
     "output_type": "execute_result"
    }
   ],
   "source": [
    "all_detail = soup.find_all('div' ,class_ = 'quote')\n",
    "all_detail"
   ]
  },
  {
   "cell_type": "code",
   "execution_count": 21,
   "id": "cbe5511b",
   "metadata": {},
   "outputs": [
    {
     "data": {
      "text/plain": [
       "<div class=\"quote\" itemscope=\"\" itemtype=\"http://schema.org/CreativeWork\">\n",
       "<span class=\"text\" itemprop=\"text\">“It is our choices, Harry, that show what we truly are, far more than our abilities.”</span>\n",
       "<span>by <small class=\"author\" itemprop=\"author\">J.K. Rowling</small>\n",
       "<a href=\"/author/J-K-Rowling\">(about)</a>\n",
       "</span>\n",
       "<div class=\"tags\">\n",
       "            Tags:\n",
       "            <meta class=\"keywords\" content=\"abilities,choices\" itemprop=\"keywords\"/>\n",
       "<a class=\"tag\" href=\"/tag/abilities/page/1/\">abilities</a>\n",
       "<a class=\"tag\" href=\"/tag/choices/page/1/\">choices</a>\n",
       "</div>\n",
       "</div>"
      ]
     },
     "execution_count": 21,
     "metadata": {},
     "output_type": "execute_result"
    }
   ],
   "source": [
    "all_detail[1]  # Slicing "
   ]
  },
  {
   "cell_type": "code",
   "execution_count": 22,
   "id": "4777c40e",
   "metadata": {},
   "outputs": [
    {
     "name": "stdout",
     "output_type": "stream",
     "text": [
      "Albert Einstein\n",
      "\n",
      "J.K. Rowling\n",
      "\n",
      "Albert Einstein\n",
      "\n",
      "Jane Austen\n",
      "\n",
      "Marilyn Monroe\n",
      "\n",
      "Albert Einstein\n",
      "\n",
      "André Gide\n",
      "\n",
      "Thomas A. Edison\n",
      "\n",
      "Eleanor Roosevelt\n",
      "\n",
      "Steve Martin\n",
      "\n"
     ]
    }
   ],
   "source": [
    "for sp in all_detail :\n",
    "#     print(sp)\n",
    "#     print()\n",
    "    quote = sp.find('span' , class_  = 'text').text[1:-1]  # Quote statement\n",
    "    author = sp.find('small' ).text     # author of statement\n",
    "    print(author)\n",
    "    print()"
   ]
  },
  {
   "cell_type": "code",
   "execution_count": 23,
   "id": "f52a1f26",
   "metadata": {},
   "outputs": [
    {
     "data": {
      "text/plain": [
       "'/author/J-K-Rowling'"
      ]
     },
     "execution_count": 23,
     "metadata": {},
     "output_type": "execute_result"
    }
   ],
   "source": [
    "authorid= all_detail[1].find('a').get('href')   #  all_detail[1].find('a') this alwasy provide you about statement\n",
    "authorid                                        # Cllect the information  from [ <a href=\"/author/J-K-Rowling\">(about)</a> ] tags"
   ]
  },
  {
   "attachments": {
    "image.png": {
     "image/png": "[encoded data removed]"
    }
   },
   "cell_type": "markdown",
   "id": "aa85d266",
   "metadata": {},
   "source": [
    "#### Refrence\n",
    "![image.png](attachment:image.png)"
   ]
  },
  {
   "attachments": {
    "image.png": {
     "image/png": "[encoded data removed]"
    }
   },
   "cell_type": "markdown",
   "id": "9782bc56",
   "metadata": {},
   "source": [
    "### How can collect the all in formtion about Author \n",
    "1. Link_of_the_site/PASTE_AUTHOR_ID\n",
    "1. Example = http://quotes.toscrape.com/author/J-K-Rowling/\n",
    "![image.png](attachment:image.png)"
   ]
  },
  {
   "cell_type": "markdown",
   "id": "ad362265",
   "metadata": {},
   "source": [
    "### [3] Scaping the class Tag"
   ]
  },
  {
   "cell_type": "code",
   "execution_count": 24,
   "id": "1b4d7a34",
   "metadata": {},
   "outputs": [
    {
     "data": {
      "text/plain": [
       "<a class=\"tag\" href=\"/tag/change/page/1/\">change</a>"
      ]
     },
     "execution_count": 24,
     "metadata": {},
     "output_type": "execute_result"
    }
   ],
   "source": [
    "soup.find('a',class_ = 'tag')"
   ]
  },
  {
   "cell_type": "code",
   "execution_count": 25,
   "id": "e89a45cd",
   "metadata": {},
   "outputs": [
    {
     "data": {
      "text/plain": [
       "[<a class=\"tag\" href=\"/tag/change/page/1/\">change</a>,\n",
       " <a class=\"tag\" href=\"/tag/deep-thoughts/page/1/\">deep-thoughts</a>,\n",
       " <a class=\"tag\" href=\"/tag/thinking/page/1/\">thinking</a>,\n",
       " <a class=\"tag\" href=\"/tag/world/page/1/\">world</a>,\n",
       " <a class=\"tag\" href=\"/tag/abilities/page/1/\">abilities</a>,\n",
       " <a class=\"tag\" href=\"/tag/choices/page/1/\">choices</a>,\n",
       " <a class=\"tag\" href=\"/tag/inspirational/page/1/\">inspirational</a>,\n",
       " <a class=\"tag\" href=\"/tag/life/page/1/\">life</a>,\n",
       " <a class=\"tag\" href=\"/tag/live/page/1/\">live</a>,\n",
       " <a class=\"tag\" href=\"/tag/miracle/page/1/\">miracle</a>,\n",
       " <a class=\"tag\" href=\"/tag/miracles/page/1/\">miracles</a>,\n",
       " <a class=\"tag\" href=\"/tag/aliteracy/page/1/\">aliteracy</a>,\n",
       " <a class=\"tag\" href=\"/tag/books/page/1/\">books</a>,\n",
       " <a class=\"tag\" href=\"/tag/classic/page/1/\">classic</a>,\n",
       " <a class=\"tag\" href=\"/tag/humor/page/1/\">humor</a>,\n",
       " <a class=\"tag\" href=\"/tag/be-yourself/page/1/\">be-yourself</a>,\n",
       " <a class=\"tag\" href=\"/tag/inspirational/page/1/\">inspirational</a>,\n",
       " <a class=\"tag\" href=\"/tag/adulthood/page/1/\">adulthood</a>,\n",
       " <a class=\"tag\" href=\"/tag/success/page/1/\">success</a>,\n",
       " <a class=\"tag\" href=\"/tag/value/page/1/\">value</a>,\n",
       " <a class=\"tag\" href=\"/tag/life/page/1/\">life</a>,\n",
       " <a class=\"tag\" href=\"/tag/love/page/1/\">love</a>,\n",
       " <a class=\"tag\" href=\"/tag/edison/page/1/\">edison</a>,\n",
       " <a class=\"tag\" href=\"/tag/failure/page/1/\">failure</a>,\n",
       " <a class=\"tag\" href=\"/tag/inspirational/page/1/\">inspirational</a>,\n",
       " <a class=\"tag\" href=\"/tag/paraphrased/page/1/\">paraphrased</a>,\n",
       " <a class=\"tag\" href=\"/tag/misattributed-eleanor-roosevelt/page/1/\">misattributed-eleanor-roosevelt</a>,\n",
       " <a class=\"tag\" href=\"/tag/humor/page/1/\">humor</a>,\n",
       " <a class=\"tag\" href=\"/tag/obvious/page/1/\">obvious</a>,\n",
       " <a class=\"tag\" href=\"/tag/simile/page/1/\">simile</a>,\n",
       " <a class=\"tag\" href=\"/tag/love/\" style=\"font-size: 28px\">love</a>,\n",
       " <a class=\"tag\" href=\"/tag/inspirational/\" style=\"font-size: 26px\">inspirational</a>,\n",
       " <a class=\"tag\" href=\"/tag/life/\" style=\"font-size: 26px\">life</a>,\n",
       " <a class=\"tag\" href=\"/tag/humor/\" style=\"font-size: 24px\">humor</a>,\n",
       " <a class=\"tag\" href=\"/tag/books/\" style=\"font-size: 22px\">books</a>,\n",
       " <a class=\"tag\" href=\"/tag/reading/\" style=\"font-size: 14px\">reading</a>,\n",
       " <a class=\"tag\" href=\"/tag/friendship/\" style=\"font-size: 10px\">friendship</a>,\n",
       " <a class=\"tag\" href=\"/tag/friends/\" style=\"font-size: 8px\">friends</a>,\n",
       " <a class=\"tag\" href=\"/tag/truth/\" style=\"font-size: 8px\">truth</a>,\n",
       " <a class=\"tag\" href=\"/tag/simile/\" style=\"font-size: 6px\">simile</a>]"
      ]
     },
     "execution_count": 25,
     "metadata": {},
     "output_type": "execute_result"
    }
   ],
   "source": [
    "soup.find_all('a',class_ = 'tag')"
   ]
  },
  {
   "cell_type": "code",
   "execution_count": 26,
   "id": "6982ba67",
   "metadata": {},
   "outputs": [],
   "source": [
    "tags_temp = []\n",
    "for tag in soup.find_all('a',class_ = 'tag'):\n",
    "#     print(tag.text)               # All tags are visible\n",
    "    tags_temp.append(tag.text)\n",
    "    tags = ', '.join(tags_temp)"
   ]
  },
  {
   "cell_type": "code",
   "execution_count": 27,
   "id": "ac985d12",
   "metadata": {},
   "outputs": [
    {
     "data": {
      "text/plain": [
       "'change, deep-thoughts, thinking, world, abilities, choices, inspirational, life, live, miracle, miracles, aliteracy, books, classic, humor, be-yourself, inspirational, adulthood, success, value, life, love, edison, failure, inspirational, paraphrased, misattributed-eleanor-roosevelt, humor, obvious, simile, love, inspirational, life, humor, books, reading, friendship, friends, truth, simile'"
      ]
     },
     "execution_count": 27,
     "metadata": {},
     "output_type": "execute_result"
    }
   ],
   "source": [
    "tags"
   ]
  },
  {
   "cell_type": "markdown",
   "id": "98876763",
   "metadata": {},
   "source": [
    "### Creating DATAFRAME"
   ]
  },
  {
   "cell_type": "code",
   "execution_count": 28,
   "id": "c2242d3b",
   "metadata": {},
   "outputs": [
    {
     "name": "stdout",
     "output_type": "stream",
     "text": [
      "The world as we have created it is a process of our thinking. It cannot be changed without changing our thinking.\n",
      "Albert Einstein\n",
      "/author/Albert-Einstein\n",
      "************************************************************\n",
      "It is our choices, Harry, that show what we truly are, far more than our abilities.\n",
      "J.K. Rowling\n",
      "/author/J-K-Rowling\n",
      "************************************************************\n",
      "There are only two ways to live your life. One is as though nothing is a miracle. The other is as though everything is a miracle.\n",
      "Albert Einstein\n",
      "/author/Albert-Einstein\n",
      "************************************************************\n",
      "The person, be it gentleman or lady, who has not pleasure in a good novel, must be intolerably stupid.\n",
      "Jane Austen\n",
      "/author/Jane-Austen\n",
      "************************************************************\n",
      "Imperfection is beauty, madness is genius and it's better to be absolutely ridiculous than absolutely boring.\n",
      "Marilyn Monroe\n",
      "/author/Marilyn-Monroe\n",
      "************************************************************\n",
      "Try not to become a man of success. Rather become a man of value.\n",
      "Albert Einstein\n",
      "/author/Albert-Einstein\n",
      "************************************************************\n",
      "It is better to be hated for what you are than to be loved for what you are not.\n",
      "André Gide\n",
      "/author/Andre-Gide\n",
      "************************************************************\n",
      "I have not failed. I've just found 10,000 ways that won't work.\n",
      "Thomas A. Edison\n",
      "/author/Thomas-A-Edison\n",
      "************************************************************\n",
      "A woman is like a tea bag; you never know how strong it is until it's in hot water.\n",
      "Eleanor Roosevelt\n",
      "/author/Eleanor-Roosevelt\n",
      "************************************************************\n",
      "A day without sunshine is like, you know, night.\n",
      "Steve Martin\n",
      "/author/Steve-Martin\n",
      "************************************************************\n"
     ]
    }
   ],
   "source": [
    "data = []\n",
    "\n",
    "for sp in all_detail :\n",
    "    quote  = sp.find('span' , class_  = 'text').text[1:-1]  # Quote statement\n",
    "\n",
    "    author = sp.find('small' ).text                        # author of statement\n",
    "\n",
    "    authorid = sp.find('a').get('href')\n",
    "    \n",
    "    tags = []\n",
    "    for tag in sp.find_all('a',class_ = 'tag'):\n",
    "        tags.append(tag.text)\n",
    "        tag_temp = ', '.join(tags)                            # Tag list\n",
    "    print(quote)\n",
    "    print(author)\n",
    "    print(authorid)\n",
    "    print('*'*60)\n",
    "    data.append([authorid ,author , quote, tag_temp] )\n",
    "    "
   ]
  },
  {
   "cell_type": "code",
   "execution_count": 29,
   "id": "9aa191b2",
   "metadata": {},
   "outputs": [
    {
     "data": {
      "text/plain": [
       "['/author/Jane-Austen',\n",
       " 'Jane Austen',\n",
       " 'The person, be it gentleman or lady, who has not pleasure in a good novel, must be intolerably stupid.',\n",
       " 'aliteracy, books, classic, humor']"
      ]
     },
     "execution_count": 29,
     "metadata": {},
     "output_type": "execute_result"
    }
   ],
   "source": [
    "data[3]"
   ]
  },
  {
   "cell_type": "code",
   "execution_count": 30,
   "id": "a219912a",
   "metadata": {},
   "outputs": [],
   "source": [
    "import pandas as pd"
   ]
  },
  {
   "cell_type": "code",
   "execution_count": 31,
   "id": "8c41c5a9",
   "metadata": {},
   "outputs": [],
   "source": [
    "df = pd.DataFrame(data,columns = ['author_id' ,'author' , 'quote', 'title_tag'] )"
   ]
  },
  {
   "cell_type": "code",
   "execution_count": 32,
   "id": "87c41d5b",
   "metadata": {},
   "outputs": [],
   "source": [
    "df.to_csv('Scrap_Quotes_csv.csv',index= False)"
   ]
  },
  {
   "cell_type": "code",
   "execution_count": 33,
   "id": "54e69d7d",
   "metadata": {},
   "outputs": [],
   "source": [
    "### Above Datset for single page only \n",
    "## how to do for Next all existing page discuss in next!"
   ]
  },
  {
   "attachments": {
    "image-2.png": {
     "image/png": "[encoded data removed]"
    },
    "image-3.png": {
     "image/png": "[encoded data removed]"
    },
    "image.png": {
     "image/png": "[encoded data removed]"
    }
   },
   "cell_type": "markdown",
   "id": "93c5451e",
   "metadata": {},
   "source": [
    "#### Page Number 1\n",
    "![image.png](attachment:image.png)\n",
    "#### Page Number 2\n",
    "![image-2.png](attachment:image-2.png)\n",
    "#### Page Number 3\n",
    "![image-3.png](attachment:image-3.png)\n",
    "\n",
    "1. All the pages link are same but after \"/\" page number is change so we get pattern how to scrap by fallowing contant"
   ]
  },
  {
   "cell_type": "code",
   "execution_count": null,
   "id": "9a885e72",
   "metadata": {},
   "outputs": [],
   "source": []
  },
  {
   "cell_type": "code",
   "execution_count": 34,
   "id": "40306163",
   "metadata": {},
   "outputs": [
    {
     "name": "stdout",
     "output_type": "stream",
     "text": [
      "This life is what you make it. No matter what, you're going to mess up sometimes, it's a universal truth. But the good part is you get to decide how you're going to mess it up. Girls will be your friends - they'll act like it anyway. But just remember, some come, some go. The ones that stay with you through everything - they're your true best friends. Don't let go of them. Also remember, sisters make the best friends in the world. As for lovers, well, they'll come and go too. And baby, I hate to say it, most of them - actually pretty much all of them are going to break your heart, but you can't give up because if you give up, you'll never find your soulmate. You'll never find that half who makes you whole and that goes for everything. Just because you fail once, doesn't mean you're gonna fail at everything. Keep trying, hold on, and always, always, always believe in yourself, because if you don't, then who will, sweetie? So keep your head high, keep your chin up, and most importantly, keep smiling, because life's a beautiful thing and there's so much to smile about.\n",
      "Marilyn Monroe\n",
      "/author/Marilyn-Monroe\n",
      "************************************************************\n",
      "It takes a great deal of bravery to stand up to our enemies, but just as much to stand up to our friends.\n",
      "J.K. Rowling\n",
      "/author/J-K-Rowling\n",
      "************************************************************\n",
      "If you can't explain it to a six year old, you don't understand it yourself.\n",
      "Albert Einstein\n",
      "/author/Albert-Einstein\n",
      "************************************************************\n",
      "You may not be her first, her last, or her only. She loved before she may love again. But if she loves you now, what else matters? She's not perfect—you aren't either, and the two of you may never be perfect together but if she can make you laugh, cause you to think twice, and admit to being human and making mistakes, hold onto her and give her the most you can. She may not be thinking about you every second of the day, but she will give you a part of her that she knows you can break—her heart. So don't hurt her, don't change her, don't analyze and don't expect more than she can give. Smile when she makes you happy, let her know when she makes you mad, and miss her when she's not there.\n",
      "Bob Marley\n",
      "/author/Bob-Marley\n",
      "************************************************************\n",
      "I like nonsense, it wakes up the brain cells. Fantasy is a necessary ingredient in living.\n",
      "Dr. Seuss\n",
      "/author/Dr-Seuss\n",
      "************************************************************\n",
      "I may not have gone where I intended to go, but I think I have ended up where I needed to be.\n",
      "Douglas Adams\n",
      "/author/Douglas-Adams\n",
      "************************************************************\n",
      "The opposite of love is not hate, it's indifference. The opposite of art is not ugliness, it's indifference. The opposite of faith is not heresy, it's indifference. And the opposite of life is not death, it's indifference.\n",
      "Elie Wiesel\n",
      "/author/Elie-Wiesel\n",
      "************************************************************\n",
      "It is not a lack of love, but a lack of friendship that makes unhappy marriages.\n",
      "Friedrich Nietzsche\n",
      "/author/Friedrich-Nietzsche\n",
      "************************************************************\n",
      "Good friends, good books, and a sleepy conscience: this is the ideal life.\n",
      "Mark Twain\n",
      "/author/Mark-Twain\n",
      "************************************************************\n",
      "Life is what happens to us while we are making other plans.\n",
      "Allen Saunders\n",
      "/author/Allen-Saunders\n",
      "************************************************************\n",
      "I love you without knowing how, or when, or from where. I love you simply, without problems or pride: I love you in this way because I do not know any other way of loving but this, in which there is no I or you, so intimate that your hand upon my chest is my hand, so intimate that when I fall asleep your eyes close.\n",
      "Pablo Neruda\n",
      "/author/Pablo-Neruda\n",
      "************************************************************\n",
      "For every minute you are angry you lose sixty seconds of happiness.\n",
      "Ralph Waldo Emerson\n",
      "/author/Ralph-Waldo-Emerson\n",
      "************************************************************\n",
      "If you judge people, you have no time to love them.\n",
      "Mother Teresa\n",
      "/author/Mother-Teresa\n",
      "************************************************************\n",
      "Anyone who thinks sitting in church can make you a Christian must also think that sitting in a garage can make you a car.\n",
      "Garrison Keillor\n",
      "/author/Garrison-Keillor\n",
      "************************************************************\n",
      "Beauty is in the eye of the beholder and it may be necessary from time to time to give a stupid or misinformed beholder a black eye.\n",
      "Jim Henson\n",
      "/author/Jim-Henson\n",
      "************************************************************\n",
      "Today you are You, that is truer than true. There is no one alive who is Youer than You.\n",
      "Dr. Seuss\n",
      "/author/Dr-Seuss\n",
      "************************************************************\n",
      "If you want your children to be intelligent, read them fairy tales. If you want them to be more intelligent, read them more fairy tales.\n",
      "Albert Einstein\n",
      "/author/Albert-Einstein\n",
      "************************************************************\n",
      "It is impossible to live without failing at something, unless you live so cautiously that you might as well not have lived at all - in which case, you fail by default.\n",
      "J.K. Rowling\n",
      "/author/J-K-Rowling\n",
      "************************************************************\n",
      "Logic will get you from A to Z; imagination will get you everywhere.\n",
      "Albert Einstein\n",
      "/author/Albert-Einstein\n",
      "************************************************************\n",
      "One good thing about music, when it hits you, you feel no pain.\n",
      "Bob Marley\n",
      "/author/Bob-Marley\n",
      "************************************************************\n",
      "The more that you read, the more things you will know. The more that you learn, the more places you'll go.\n",
      "Dr. Seuss\n",
      "/author/Dr-Seuss\n",
      "************************************************************\n",
      "Of course it is happening inside your head, Harry, but why on earth should that mean that it is not real?\n",
      "J.K. Rowling\n",
      "/author/J-K-Rowling\n",
      "************************************************************\n",
      "The truth is, everyone is going to hurt you. You just got to find the ones worth suffering for.\n",
      "Bob Marley\n",
      "/author/Bob-Marley\n",
      "************************************************************\n",
      "Not all of us can do great things. But we can do small things with great love.\n",
      "Mother Teresa\n",
      "/author/Mother-Teresa\n",
      "************************************************************\n",
      "To the well-organized mind, death is but the next great adventure.\n",
      "J.K. Rowling\n",
      "/author/J-K-Rowling\n",
      "************************************************************\n",
      "All you need is love. But a little chocolate now and then doesn't hurt.\n",
      "Charles M. Schulz\n",
      "/author/Charles-M-Schulz\n",
      "************************************************************\n",
      "We read to know we're not alone.\n",
      "William Nicholson\n",
      "/author/William-Nicholson\n",
      "************************************************************\n",
      "Any fool can know. The point is to understand.\n",
      "Albert Einstein\n",
      "/author/Albert-Einstein\n",
      "************************************************************\n",
      "I have always imagined that Paradise will be a kind of library.\n",
      "Jorge Luis Borges\n",
      "/author/Jorge-Luis-Borges\n",
      "************************************************************\n",
      "It is never too late to be what you might have been.\n",
      "George Eliot\n",
      "/author/George-Eliot\n",
      "************************************************************\n",
      "A reader lives a thousand lives before he dies, said Jojen. The man who never reads lives only one.\n",
      "George R.R. Martin\n",
      "/author/George-R-R-Martin\n",
      "************************************************************\n",
      "You can never get a cup of tea large enough or a book long enough to suit me.\n",
      "C.S. Lewis\n",
      "/author/C-S-Lewis\n",
      "************************************************************\n",
      "You believe lies so you eventually learn to trust no one but yourself.\n",
      "Marilyn Monroe\n",
      "/author/Marilyn-Monroe\n",
      "************************************************************\n",
      "If you can make a woman laugh, you can make her do anything.\n",
      "Marilyn Monroe\n",
      "/author/Marilyn-Monroe\n",
      "************************************************************\n",
      "Life is like riding a bicycle. To keep your balance, you must keep moving.\n",
      "Albert Einstein\n",
      "/author/Albert-Einstein\n",
      "************************************************************\n",
      "The real lover is the man who can thrill you by kissing your forehead or smiling into your eyes or just staring into space.\n",
      "Marilyn Monroe\n",
      "/author/Marilyn-Monroe\n",
      "************************************************************\n",
      "A wise girl kisses but doesn't love, listens but doesn't believe, and leaves before she is left.\n",
      "Marilyn Monroe\n",
      "/author/Marilyn-Monroe\n",
      "************************************************************\n",
      "Only in the darkness can you see the stars.\n",
      "Martin Luther King Jr.\n",
      "/author/Martin-Luther-King-Jr\n",
      "************************************************************\n",
      "It matters not what someone is born, but what they grow to be.\n",
      "J.K. Rowling\n",
      "/author/J-K-Rowling\n",
      "************************************************************\n",
      "Love does not begin and end the way we seem to think it does. Love is a battle, love is a war; love is a growing up.\n",
      "James Baldwin\n",
      "/author/James-Baldwin\n",
      "************************************************************\n"
     ]
    },
    {
     "name": "stdout",
     "output_type": "stream",
     "text": [
      "There is nothing I would not do for those who are really my friends. I have no notion of loving people by halves, it is not my nature.\n",
      "Jane Austen\n",
      "/author/Jane-Austen\n",
      "************************************************************\n",
      "Do one thing every day that scares you.\n",
      "Eleanor Roosevelt\n",
      "/author/Eleanor-Roosevelt\n",
      "************************************************************\n",
      "I am good, but not an angel. I do sin, but I am not the devil. I am just a small girl in a big world trying to find someone to love.\n",
      "Marilyn Monroe\n",
      "/author/Marilyn-Monroe\n",
      "************************************************************\n",
      "If I were not a physicist, I would probably be a musician. I often think in music. I live my daydreams in music. I see my life in terms of music.\n",
      "Albert Einstein\n",
      "/author/Albert-Einstein\n",
      "************************************************************\n",
      "If you only read the books that everyone else is reading, you can only think what everyone else is thinking.\n",
      "Haruki Murakami\n",
      "/author/Haruki-Murakami\n",
      "************************************************************\n",
      "The difference between genius and stupidity is: genius has its limits.\n",
      "Alexandre Dumas fils\n",
      "/author/Alexandre-Dumas-fils\n",
      "************************************************************\n",
      "He's like a drug for you, Bella.\n",
      "Stephenie Meyer\n",
      "/author/Stephenie-Meyer\n",
      "************************************************************\n",
      "There is no friend as loyal as a book.\n",
      "Ernest Hemingway\n",
      "/author/Ernest-Hemingway\n",
      "************************************************************\n",
      "When one door of happiness closes, another opens; but often we look so long at the closed door that we do not see the one which has been opened for us.\n",
      "Helen Keller\n",
      "/author/Helen-Keller\n",
      "************************************************************\n",
      "Life isn't about finding yourself. Life is about creating yourself.\n",
      "George Bernard Shaw\n",
      "/author/George-Bernard-Shaw\n",
      "************************************************************\n",
      "That's the problem with drinking, I thought, as I poured myself a drink. If something bad happens you drink in an attempt to forget; if something good happens you drink in order to celebrate; and if nothing happens you drink to make something happen.\n",
      "Charles Bukowski\n",
      "/author/Charles-Bukowski\n",
      "************************************************************\n",
      "You don’t forget the face of the person who was your last hope.\n",
      "Suzanne Collins\n",
      "/author/Suzanne-Collins\n",
      "************************************************************\n",
      "Remember, we're madly in love, so it's all right to kiss me anytime you feel like it.\n",
      "Suzanne Collins\n",
      "/author/Suzanne-Collins\n",
      "************************************************************\n",
      "To love at all is to be vulnerable. Love anything and your heart will be wrung and possibly broken. If you want to make sure of keeping it intact you must give it to no one, not even an animal. Wrap it carefully round with hobbies and little luxuries; avoid all entanglements. Lock it up safe in the casket or coffin of your selfishness. But in that casket, safe, dark, motionless, airless, it will change. It will not be broken; it will become unbreakable, impenetrable, irredeemable. To love is to be vulnerable.\n",
      "C.S. Lewis\n",
      "/author/C-S-Lewis\n",
      "************************************************************\n",
      "Not all those who wander are lost.\n",
      "J.R.R. Tolkien\n",
      "/author/J-R-R-Tolkien\n",
      "************************************************************\n",
      "Do not pity the dead, Harry. Pity the living, and, above all those who live without love.\n",
      "J.K. Rowling\n",
      "/author/J-K-Rowling\n",
      "************************************************************\n",
      "There is nothing to writing. All you do is sit down at a typewriter and bleed.\n",
      "Ernest Hemingway\n",
      "/author/Ernest-Hemingway\n",
      "************************************************************\n",
      "Finish each day and be done with it. You have done what you could. Some blunders and absurdities no doubt crept in; forget them as soon as you can. Tomorrow is a new day. You shall begin it serenely and with too high a spirit to be encumbered with your old nonsense.\n",
      "Ralph Waldo Emerson\n",
      "/author/Ralph-Waldo-Emerson\n",
      "************************************************************\n",
      "I have never let my schooling interfere with my education.\n",
      "Mark Twain\n",
      "/author/Mark-Twain\n",
      "************************************************************\n",
      "I have heard there are troubles of more than one kind. Some come from ahead and some come from behind. But I've bought a big bat. I'm all ready you see. Now my troubles are going to have troubles with me!\n",
      "Dr. Seuss\n",
      "/author/Dr-Seuss\n",
      "************************************************************\n",
      "If I had a flower for every time I thought of you...I could walk through my garden forever.\n",
      "Alfred Tennyson\n",
      "/author/Alfred-Tennyson\n",
      "************************************************************\n",
      "Some people never go crazy. What truly horrible lives they must lead.\n",
      "Charles Bukowski\n",
      "/author/Charles-Bukowski\n",
      "************************************************************\n",
      "The trouble with having an open mind, of course, is that people will insist on coming along and trying to put things in it.\n",
      "Terry Pratchett\n",
      "/author/Terry-Pratchett\n",
      "************************************************************\n",
      "Think left and think right and think low and think high. Oh, the thinks you can think up if only you try!\n",
      "Dr. Seuss\n",
      "/author/Dr-Seuss\n",
      "************************************************************\n",
      "What really knocks me out is a book that, when you're all done reading it, you wish the author that wrote it was a terrific friend of yours and you could call him up on the phone whenever you felt like it. That doesn't happen much, though.\n",
      "J.D. Salinger\n",
      "/author/J-D-Salinger\n",
      "************************************************************\n",
      "The reason I talk to myself is because I’m the only one whose answers I accept.\n",
      "George Carlin\n",
      "/author/George-Carlin\n",
      "************************************************************\n",
      "You may say I'm a dreamer, but I'm not the only one. I hope someday you'll join us. And the world will live as one.\n",
      "John Lennon\n",
      "/author/John-Lennon\n",
      "************************************************************\n",
      "I am free of all prejudice. I hate everyone equally. \n",
      "W.C. Fields\n",
      "/author/W-C-Fields\n",
      "************************************************************\n",
      "The question isn't who is going to let me; it's who is going to stop me.\n",
      "Ayn Rand\n",
      "/author/Ayn-Rand\n",
      "************************************************************\n",
      "′Classic′ - a book which people praise and don't read.\n",
      "Mark Twain\n",
      "/author/Mark-Twain\n",
      "************************************************************\n",
      "Anyone who has never made a mistake has never tried anything new.\n",
      "Albert Einstein\n",
      "/author/Albert-Einstein\n",
      "************************************************************\n",
      "A lady's imagination is very rapid; it jumps from admiration to love, from love to matrimony in a moment.\n",
      "Jane Austen\n",
      "/author/Jane-Austen\n",
      "************************************************************\n",
      "Remember, if the time should come when you have to make a choice between what is right and what is easy, remember what happened to a boy who was good, and kind, and brave, because he strayed across the path of Lord Voldemort. Remember Cedric Diggory.\n",
      "J.K. Rowling\n",
      "/author/J-K-Rowling\n",
      "************************************************************\n",
      "I declare after all there is no enjoyment like reading! How much sooner one tires of any thing than of a book! -- When I have a house of my own, I shall be miserable if I have not an excellent library.\n",
      "Jane Austen\n",
      "/author/Jane-Austen\n",
      "************************************************************\n",
      "There are few people whom I really love, and still fewer of whom I think well. The more I see of the world, the more am I dissatisfied with it; and every day confirms my belief of the inconsistency of all human characters, and of the little dependence that can be placed on the appearance of merit or sense.\n",
      "Jane Austen\n",
      "/author/Jane-Austen\n",
      "************************************************************\n",
      "Some day you will be old enough to start reading fairy tales again.\n",
      "C.S. Lewis\n",
      "/author/C-S-Lewis\n",
      "************************************************************\n",
      "We are not necessarily doubting that God will do the best for us; we are wondering how painful the best will turn out to be.\n",
      "C.S. Lewis\n",
      "/author/C-S-Lewis\n",
      "************************************************************\n",
      "The fear of death follows from the fear of life. A man who lives fully is prepared to die at any time.\n",
      "Mark Twain\n",
      "/author/Mark-Twain\n",
      "************************************************************\n",
      "A lie can travel half way around the world while the truth is putting on its shoes.\n",
      "Mark Twain\n",
      "/author/Mark-Twain\n",
      "************************************************************\n",
      "I believe in Christianity as I believe that the sun has risen: not only because I see it, but because by it I see everything else.\n",
      "C.S. Lewis\n",
      "/author/C-S-Lewis\n",
      "************************************************************\n"
     ]
    },
    {
     "name": "stdout",
     "output_type": "stream",
     "text": [
      "The truth.\" Dumbledore sighed. \"It is a beautiful and terrible thing, and should therefore be treated with great caution.\n",
      "J.K. Rowling\n",
      "/author/J-K-Rowling\n",
      "************************************************************\n",
      "I'm the one that's got to die when it's time for me to die, so let me live my life the way I want to.\n",
      "Jimi Hendrix\n",
      "/author/Jimi-Hendrix\n",
      "************************************************************\n",
      "To die will be an awfully big adventure.\n",
      "J.M. Barrie\n",
      "/author/J-M-Barrie\n",
      "************************************************************\n",
      "It takes courage to grow up and become who you really are.\n",
      "E.E. Cummings\n",
      "/author/E-E-Cummings\n",
      "************************************************************\n",
      "But better to get hurt by the truth than comforted with a lie.\n",
      "Khaled Hosseini\n",
      "/author/Khaled-Hosseini\n",
      "************************************************************\n",
      "You never really understand a person until you consider things from his point of view... Until you climb inside of his skin and walk around in it.\n",
      "Harper Lee\n",
      "/author/Harper-Lee\n",
      "************************************************************\n",
      "You have to write the book that wants to be written. And if the book will be too difficult for grown-ups, then you write it for children.\n",
      "Madeleine L'Engle\n",
      "/author/Madeleine-LEngle\n",
      "************************************************************\n",
      "Never tell the truth to people who are not worthy of it.\n",
      "Mark Twain\n",
      "/author/Mark-Twain\n",
      "************************************************************\n",
      "A person's a person, no matter how small.\n",
      "Dr. Seuss\n",
      "/author/Dr-Seuss\n",
      "************************************************************\n",
      "... a mind needs books as a sword needs a whetstone, if it is to keep its edge.\n",
      "George R.R. Martin\n",
      "/author/George-R-R-Martin\n",
      "************************************************************\n"
     ]
    }
   ],
   "source": [
    "data = []\n",
    "\n",
    "for page_no in  range(2,11) :\n",
    "#     print(page_no)\n",
    "#     print('https://quotes.toscrape.com/page/'+str(page_no)+'/')  # Creating the link for each page\n",
    "    link= 'https://quotes.toscrape.com/page/'+str(page_no)+'/'\n",
    "    responce = requests.get(link)                                  # we poassing the link into request and \n",
    "    soup= BeautifulSoup(responce.text , 'html.parser')\n",
    "    \n",
    "    all_detail  =  soup.find_all('div' ,class_ = 'quote')    \n",
    "    \n",
    "    for sp in all_detail :\n",
    "        quote  = sp.find('span' , class_  = 'text').text[1:-1]     # Quote statement\n",
    "        author = sp.find('small' ).text                            # author of statement\n",
    "        authorid = sp.find('a').get('href')\n",
    "        tags = []\n",
    "        for tag in sp.find_all('a',class_ = 'tag'):\n",
    "            tags.append(tag.text)\n",
    "            tag_temp = ', '.join(tags)                            # Tag list\n",
    "        print(quote)\n",
    "        print(author)\n",
    "        print(authorid)\n",
    "        print('*'*60)\n",
    "        data.append([authorid ,author , quote, tag_temp] )\n",
    "    "
   ]
  },
  {
   "cell_type": "code",
   "execution_count": 35,
   "id": "ac284f96",
   "metadata": {},
   "outputs": [
    {
     "name": "stderr",
     "output_type": "stream",
     "text": [
      "100%|██████████████████████████████████████████████████████████████████████████████████| 10/10 [00:11<00:00,  1.14s/it]\n"
     ]
    }
   ],
   "source": [
    "# for better presentation -\n",
    "from tqdm import tqdm\n",
    "\n",
    "data = []\n",
    "\n",
    "for page_no in  tqdm(range(1,11)) :\n",
    "\n",
    "    link= 'https://quotes.toscrape.com/page/'+str(page_no)+'/'\n",
    "    responce = requests.get(link)                                  # we poassing the link into request and \n",
    "    soup= BeautifulSoup(responce.text , 'html.parser')\n",
    "    \n",
    "    all_detail  =  soup.find_all('div' ,class_ = 'quote')    \n",
    "    \n",
    "    for sp in all_detail :\n",
    "        quote  = sp.find('span' , class_  = 'text').text[1:-1]     # Quote statement\n",
    "        author = sp.find('small' ).text                            # author of statement\n",
    "        authorid = sp.find('a').get('href')\n",
    "        \n",
    "        tags = []\n",
    "        for tag in sp.find_all('a',class_ = 'tag'):\n",
    "            tags.append(tag.text)\n",
    "        tag_temp = ', '.join(tags)                            # Tag list\n",
    "        data.append([authorid ,author , quote, tag_temp] )"
   ]
  },
  {
   "cell_type": "code",
   "execution_count": 36,
   "id": "11693e72",
   "metadata": {},
   "outputs": [
    {
     "data": {
      "text/plain": [
       "100"
      ]
     },
     "execution_count": 36,
     "metadata": {},
     "output_type": "execute_result"
    }
   ],
   "source": [
    "len(data)           # Total Number of pages 10*10 "
   ]
  },
  {
   "cell_type": "code",
   "execution_count": 37,
   "id": "f0bfa0fb",
   "metadata": {},
   "outputs": [],
   "source": [
    "data_frame = pd.DataFrame(data,columns = ['author_id' ,'author' , 'quote', 'title_tag'] )"
   ]
  },
  {
   "cell_type": "code",
   "execution_count": 38,
   "id": "62d7eec4",
   "metadata": {},
   "outputs": [
    {
     "data": {
      "text/html": [
       "<div>\n",
       "<style scoped>\n",
       "    .dataframe tbody tr th:only-of-type {\n",
       "        vertical-align: middle;\n",
       "    }\n",
       "\n",
       "    .dataframe tbody tr th {\n",
       "        vertical-align: top;\n",
       "    }\n",
       "\n",
       "    .dataframe thead th {\n",
       "        text-align: right;\n",
       "    }\n",
       "</style>\n",
       "<table border=\"1\" class=\"dataframe\">\n",
       "  <thead>\n",
       "    <tr style=\"text-align: right;\">\n",
       "      <th></th>\n",
       "      <th>author_id</th>\n",
       "      <th>author</th>\n",
       "      <th>quote</th>\n",
       "      <th>title_tag</th>\n",
       "    </tr>\n",
       "  </thead>\n",
       "  <tbody>\n",
       "    <tr>\n",
       "      <th>0</th>\n",
       "      <td>/author/Albert-Einstein</td>\n",
       "      <td>Albert Einstein</td>\n",
       "      <td>The world as we have created it is a process o...</td>\n",
       "      <td>change, deep-thoughts, thinking, world</td>\n",
       "    </tr>\n",
       "    <tr>\n",
       "      <th>1</th>\n",
       "      <td>/author/J-K-Rowling</td>\n",
       "      <td>J.K. Rowling</td>\n",
       "      <td>It is our choices, Harry, that show what we tr...</td>\n",
       "      <td>abilities, choices</td>\n",
       "    </tr>\n",
       "    <tr>\n",
       "      <th>2</th>\n",
       "      <td>/author/Albert-Einstein</td>\n",
       "      <td>Albert Einstein</td>\n",
       "      <td>There are only two ways to live your life. One...</td>\n",
       "      <td>inspirational, life, live, miracle, miracles</td>\n",
       "    </tr>\n",
       "    <tr>\n",
       "      <th>3</th>\n",
       "      <td>/author/Jane-Austen</td>\n",
       "      <td>Jane Austen</td>\n",
       "      <td>The person, be it gentleman or lady, who has n...</td>\n",
       "      <td>aliteracy, books, classic, humor</td>\n",
       "    </tr>\n",
       "    <tr>\n",
       "      <th>4</th>\n",
       "      <td>/author/Marilyn-Monroe</td>\n",
       "      <td>Marilyn Monroe</td>\n",
       "      <td>Imperfection is beauty, madness is genius and ...</td>\n",
       "      <td>be-yourself, inspirational</td>\n",
       "    </tr>\n",
       "    <tr>\n",
       "      <th>...</th>\n",
       "      <td>...</td>\n",
       "      <td>...</td>\n",
       "      <td>...</td>\n",
       "      <td>...</td>\n",
       "    </tr>\n",
       "    <tr>\n",
       "      <th>95</th>\n",
       "      <td>/author/Harper-Lee</td>\n",
       "      <td>Harper Lee</td>\n",
       "      <td>You never really understand a person until you...</td>\n",
       "      <td>better-life-empathy</td>\n",
       "    </tr>\n",
       "    <tr>\n",
       "      <th>96</th>\n",
       "      <td>/author/Madeleine-LEngle</td>\n",
       "      <td>Madeleine L'Engle</td>\n",
       "      <td>You have to write the book that wants to be wr...</td>\n",
       "      <td>books, children, difficult, grown-ups, write, ...</td>\n",
       "    </tr>\n",
       "    <tr>\n",
       "      <th>97</th>\n",
       "      <td>/author/Mark-Twain</td>\n",
       "      <td>Mark Twain</td>\n",
       "      <td>Never tell the truth to people who are not wor...</td>\n",
       "      <td>truth</td>\n",
       "    </tr>\n",
       "    <tr>\n",
       "      <th>98</th>\n",
       "      <td>/author/Dr-Seuss</td>\n",
       "      <td>Dr. Seuss</td>\n",
       "      <td>A person's a person, no matter how small.</td>\n",
       "      <td>inspirational</td>\n",
       "    </tr>\n",
       "    <tr>\n",
       "      <th>99</th>\n",
       "      <td>/author/George-R-R-Martin</td>\n",
       "      <td>George R.R. Martin</td>\n",
       "      <td>... a mind needs books as a sword needs a whet...</td>\n",
       "      <td>books, mind</td>\n",
       "    </tr>\n",
       "  </tbody>\n",
       "</table>\n",
       "<p>100 rows × 4 columns</p>\n",
       "</div>"
      ],
      "text/plain": [
       "                    author_id              author  \\\n",
       "0     /author/Albert-Einstein     Albert Einstein   \n",
       "1         /author/J-K-Rowling        J.K. Rowling   \n",
       "2     /author/Albert-Einstein     Albert Einstein   \n",
       "3         /author/Jane-Austen         Jane Austen   \n",
       "4      /author/Marilyn-Monroe      Marilyn Monroe   \n",
       "..                        ...                 ...   \n",
       "95         /author/Harper-Lee          Harper Lee   \n",
       "96   /author/Madeleine-LEngle   Madeleine L'Engle   \n",
       "97         /author/Mark-Twain          Mark Twain   \n",
       "98           /author/Dr-Seuss           Dr. Seuss   \n",
       "99  /author/George-R-R-Martin  George R.R. Martin   \n",
       "\n",
       "                                                quote  \\\n",
       "0   The world as we have created it is a process o...   \n",
       "1   It is our choices, Harry, that show what we tr...   \n",
       "2   There are only two ways to live your life. One...   \n",
       "3   The person, be it gentleman or lady, who has n...   \n",
       "4   Imperfection is beauty, madness is genius and ...   \n",
       "..                                                ...   \n",
       "95  You never really understand a person until you...   \n",
       "96  You have to write the book that wants to be wr...   \n",
       "97  Never tell the truth to people who are not wor...   \n",
       "98          A person's a person, no matter how small.   \n",
       "99  ... a mind needs books as a sword needs a whet...   \n",
       "\n",
       "                                            title_tag  \n",
       "0              change, deep-thoughts, thinking, world  \n",
       "1                                  abilities, choices  \n",
       "2        inspirational, life, live, miracle, miracles  \n",
       "3                    aliteracy, books, classic, humor  \n",
       "4                          be-yourself, inspirational  \n",
       "..                                                ...  \n",
       "95                                better-life-empathy  \n",
       "96  books, children, difficult, grown-ups, write, ...  \n",
       "97                                              truth  \n",
       "98                                      inspirational  \n",
       "99                                        books, mind  \n",
       "\n",
       "[100 rows x 4 columns]"
      ]
     },
     "execution_count": 38,
     "metadata": {},
     "output_type": "execute_result"
    }
   ],
   "source": [
    "data_frame  # All information about whole pages"
   ]
  },
  {
   "cell_type": "code",
   "execution_count": 39,
   "id": "3a5b7282",
   "metadata": {},
   "outputs": [],
   "source": [
    "## To link the webside\n",
    "containt_link = 'http://quotes.toscrape.com/' + data_frame['author_id']\n",
    " \n",
    "data_frame['containt_link'] =  containt_link"
   ]
  },
  {
   "cell_type": "code",
   "execution_count": 40,
   "id": "628d32c4",
   "metadata": {},
   "outputs": [
    {
     "data": {
      "text/plain": [
       "0     http://quotes.toscrape.com//author/Albert-Eins...\n",
       "1        http://quotes.toscrape.com//author/J-K-Rowling\n",
       "2     http://quotes.toscrape.com//author/Albert-Eins...\n",
       "3        http://quotes.toscrape.com//author/Jane-Austen\n",
       "4     http://quotes.toscrape.com//author/Marilyn-Monroe\n",
       "                            ...                        \n",
       "95        http://quotes.toscrape.com//author/Harper-Lee\n",
       "96    http://quotes.toscrape.com//author/Madeleine-L...\n",
       "97        http://quotes.toscrape.com//author/Mark-Twain\n",
       "98          http://quotes.toscrape.com//author/Dr-Seuss\n",
       "99    http://quotes.toscrape.com//author/George-R-R-...\n",
       "Name: author_id, Length: 100, dtype: object"
      ]
     },
     "execution_count": 40,
     "metadata": {},
     "output_type": "execute_result"
    }
   ],
   "source": [
    "containt_link"
   ]
  },
  {
   "cell_type": "code",
   "execution_count": 41,
   "id": "425d9597",
   "metadata": {},
   "outputs": [
    {
     "data": {
      "text/html": [
       "<div>\n",
       "<style scoped>\n",
       "    .dataframe tbody tr th:only-of-type {\n",
       "        vertical-align: middle;\n",
       "    }\n",
       "\n",
       "    .dataframe tbody tr th {\n",
       "        vertical-align: top;\n",
       "    }\n",
       "\n",
       "    .dataframe thead th {\n",
       "        text-align: right;\n",
       "    }\n",
       "</style>\n",
       "<table border=\"1\" class=\"dataframe\">\n",
       "  <thead>\n",
       "    <tr style=\"text-align: right;\">\n",
       "      <th></th>\n",
       "      <th>author_id</th>\n",
       "      <th>author</th>\n",
       "      <th>quote</th>\n",
       "      <th>title_tag</th>\n",
       "      <th>containt_link</th>\n",
       "    </tr>\n",
       "  </thead>\n",
       "  <tbody>\n",
       "    <tr>\n",
       "      <th>0</th>\n",
       "      <td>/author/Albert-Einstein</td>\n",
       "      <td>Albert Einstein</td>\n",
       "      <td>The world as we have created it is a process o...</td>\n",
       "      <td>change, deep-thoughts, thinking, world</td>\n",
       "      <td>http://quotes.toscrape.com//author/Albert-Eins...</td>\n",
       "    </tr>\n",
       "    <tr>\n",
       "      <th>1</th>\n",
       "      <td>/author/J-K-Rowling</td>\n",
       "      <td>J.K. Rowling</td>\n",
       "      <td>It is our choices, Harry, that show what we tr...</td>\n",
       "      <td>abilities, choices</td>\n",
       "      <td>http://quotes.toscrape.com//author/J-K-Rowling</td>\n",
       "    </tr>\n",
       "    <tr>\n",
       "      <th>2</th>\n",
       "      <td>/author/Albert-Einstein</td>\n",
       "      <td>Albert Einstein</td>\n",
       "      <td>There are only two ways to live your life. One...</td>\n",
       "      <td>inspirational, life, live, miracle, miracles</td>\n",
       "      <td>http://quotes.toscrape.com//author/Albert-Eins...</td>\n",
       "    </tr>\n",
       "    <tr>\n",
       "      <th>3</th>\n",
       "      <td>/author/Jane-Austen</td>\n",
       "      <td>Jane Austen</td>\n",
       "      <td>The person, be it gentleman or lady, who has n...</td>\n",
       "      <td>aliteracy, books, classic, humor</td>\n",
       "      <td>http://quotes.toscrape.com//author/Jane-Austen</td>\n",
       "    </tr>\n",
       "    <tr>\n",
       "      <th>4</th>\n",
       "      <td>/author/Marilyn-Monroe</td>\n",
       "      <td>Marilyn Monroe</td>\n",
       "      <td>Imperfection is beauty, madness is genius and ...</td>\n",
       "      <td>be-yourself, inspirational</td>\n",
       "      <td>http://quotes.toscrape.com//author/Marilyn-Monroe</td>\n",
       "    </tr>\n",
       "    <tr>\n",
       "      <th>...</th>\n",
       "      <td>...</td>\n",
       "      <td>...</td>\n",
       "      <td>...</td>\n",
       "      <td>...</td>\n",
       "      <td>...</td>\n",
       "    </tr>\n",
       "    <tr>\n",
       "      <th>95</th>\n",
       "      <td>/author/Harper-Lee</td>\n",
       "      <td>Harper Lee</td>\n",
       "      <td>You never really understand a person until you...</td>\n",
       "      <td>better-life-empathy</td>\n",
       "      <td>http://quotes.toscrape.com//author/Harper-Lee</td>\n",
       "    </tr>\n",
       "    <tr>\n",
       "      <th>96</th>\n",
       "      <td>/author/Madeleine-LEngle</td>\n",
       "      <td>Madeleine L'Engle</td>\n",
       "      <td>You have to write the book that wants to be wr...</td>\n",
       "      <td>books, children, difficult, grown-ups, write, ...</td>\n",
       "      <td>http://quotes.toscrape.com//author/Madeleine-L...</td>\n",
       "    </tr>\n",
       "    <tr>\n",
       "      <th>97</th>\n",
       "      <td>/author/Mark-Twain</td>\n",
       "      <td>Mark Twain</td>\n",
       "      <td>Never tell the truth to people who are not wor...</td>\n",
       "      <td>truth</td>\n",
       "      <td>http://quotes.toscrape.com//author/Mark-Twain</td>\n",
       "    </tr>\n",
       "    <tr>\n",
       "      <th>98</th>\n",
       "      <td>/author/Dr-Seuss</td>\n",
       "      <td>Dr. Seuss</td>\n",
       "      <td>A person's a person, no matter how small.</td>\n",
       "      <td>inspirational</td>\n",
       "      <td>http://quotes.toscrape.com//author/Dr-Seuss</td>\n",
       "    </tr>\n",
       "    <tr>\n",
       "      <th>99</th>\n",
       "      <td>/author/George-R-R-Martin</td>\n",
       "      <td>George R.R. Martin</td>\n",
       "      <td>... a mind needs books as a sword needs a whet...</td>\n",
       "      <td>books, mind</td>\n",
       "      <td>http://quotes.toscrape.com//author/George-R-R-...</td>\n",
       "    </tr>\n",
       "  </tbody>\n",
       "</table>\n",
       "<p>100 rows × 5 columns</p>\n",
       "</div>"
      ],
      "text/plain": [
       "                    author_id              author  \\\n",
       "0     /author/Albert-Einstein     Albert Einstein   \n",
       "1         /author/J-K-Rowling        J.K. Rowling   \n",
       "2     /author/Albert-Einstein     Albert Einstein   \n",
       "3         /author/Jane-Austen         Jane Austen   \n",
       "4      /author/Marilyn-Monroe      Marilyn Monroe   \n",
       "..                        ...                 ...   \n",
       "95         /author/Harper-Lee          Harper Lee   \n",
       "96   /author/Madeleine-LEngle   Madeleine L'Engle   \n",
       "97         /author/Mark-Twain          Mark Twain   \n",
       "98           /author/Dr-Seuss           Dr. Seuss   \n",
       "99  /author/George-R-R-Martin  George R.R. Martin   \n",
       "\n",
       "                                                quote  \\\n",
       "0   The world as we have created it is a process o...   \n",
       "1   It is our choices, Harry, that show what we tr...   \n",
       "2   There are only two ways to live your life. One...   \n",
       "3   The person, be it gentleman or lady, who has n...   \n",
       "4   Imperfection is beauty, madness is genius and ...   \n",
       "..                                                ...   \n",
       "95  You never really understand a person until you...   \n",
       "96  You have to write the book that wants to be wr...   \n",
       "97  Never tell the truth to people who are not wor...   \n",
       "98          A person's a person, no matter how small.   \n",
       "99  ... a mind needs books as a sword needs a whet...   \n",
       "\n",
       "                                            title_tag  \\\n",
       "0              change, deep-thoughts, thinking, world   \n",
       "1                                  abilities, choices   \n",
       "2        inspirational, life, live, miracle, miracles   \n",
       "3                    aliteracy, books, classic, humor   \n",
       "4                          be-yourself, inspirational   \n",
       "..                                                ...   \n",
       "95                                better-life-empathy   \n",
       "96  books, children, difficult, grown-ups, write, ...   \n",
       "97                                              truth   \n",
       "98                                      inspirational   \n",
       "99                                        books, mind   \n",
       "\n",
       "                                        containt_link  \n",
       "0   http://quotes.toscrape.com//author/Albert-Eins...  \n",
       "1      http://quotes.toscrape.com//author/J-K-Rowling  \n",
       "2   http://quotes.toscrape.com//author/Albert-Eins...  \n",
       "3      http://quotes.toscrape.com//author/Jane-Austen  \n",
       "4   http://quotes.toscrape.com//author/Marilyn-Monroe  \n",
       "..                                                ...  \n",
       "95      http://quotes.toscrape.com//author/Harper-Lee  \n",
       "96  http://quotes.toscrape.com//author/Madeleine-L...  \n",
       "97      http://quotes.toscrape.com//author/Mark-Twain  \n",
       "98        http://quotes.toscrape.com//author/Dr-Seuss  \n",
       "99  http://quotes.toscrape.com//author/George-R-R-...  \n",
       "\n",
       "[100 rows x 5 columns]"
      ]
     },
     "execution_count": 41,
     "metadata": {},
     "output_type": "execute_result"
    }
   ],
   "source": [
    "data_frame"
   ]
  },
  {
   "cell_type": "code",
   "execution_count": 42,
   "id": "3b25ebab",
   "metadata": {},
   "outputs": [],
   "source": [
    "data_frame.to_csv('WebsiteQuotesPagesContaint.csv',index= False)"
   ]
  },
  {
   "cell_type": "code",
   "execution_count": null,
   "id": "de0665c3",
   "metadata": {},
   "outputs": [],
   "source": []
  },
  {
   "cell_type": "code",
   "execution_count": null,
   "id": "d0ba0b94",
   "metadata": {},
   "outputs": [],
   "source": []
  }
 ],
 "metadata": {
  "kernelspec": {
   "display_name": "Python 3 (ipykernel)",
   "language": "python",
   "name": "python3"
  },
  "language_info": {
   "codemirror_mode": {
    "name": "ipython",
    "version": 3
   },
   "file_extension": ".py",
   "mimetype": "text/x-python",
   "name": "python",
   "nbconvert_exporter": "python",
   "pygments_lexer": "ipython3",
   "version": "3.10.2"
  }
 },
 "nbformat": 4,
 "nbformat_minor": 5
}
